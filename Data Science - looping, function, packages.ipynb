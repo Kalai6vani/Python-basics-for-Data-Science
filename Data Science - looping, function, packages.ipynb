{
 "cells": [
  {
   "cell_type": "code",
   "execution_count": null,
   "id": "6b3a5aa6",
   "metadata": {},
   "outputs": [],
   "source": [
    "#DAY 3 - BRANCHING AND LOOPING STATEMENTS"
   ]
  },
  {
   "cell_type": "code",
   "execution_count": 1,
   "id": "62fcc792",
   "metadata": {},
   "outputs": [
    {
     "name": "stdout",
     "output_type": "stream",
     "text": [
      "1\n",
      "2\n",
      "3\n",
      "4\n",
      "5\n",
      "6\n",
      "7\n",
      "8\n",
      "9\n",
      "10\n",
      "11\n",
      "12\n",
      "13\n",
      "14\n",
      "15\n",
      "16\n",
      "17\n",
      "18\n",
      "19\n",
      "20\n"
     ]
    }
   ],
   "source": [
    "#Display values from 1 to 20 using for loop\n",
    "#Looping statement should end with colon\n",
    "for i  in range(1,21):\n",
    "    print(i)"
   ]
  },
  {
   "cell_type": "code",
   "execution_count": 2,
   "id": "bbc0cfcd",
   "metadata": {},
   "outputs": [
    {
     "name": "stdout",
     "output_type": "stream",
     "text": [
      "1\n",
      "3\n",
      "5\n",
      "7\n",
      "9\n",
      "11\n",
      "13\n",
      "15\n",
      "17\n",
      "19\n"
     ]
    }
   ],
   "source": [
    "for i  in range(1,21,2):\n",
    "    print(i)"
   ]
  },
  {
   "cell_type": "code",
   "execution_count": 3,
   "id": "41156195",
   "metadata": {},
   "outputs": [
    {
     "name": "stdout",
     "output_type": "stream",
     "text": [
      "0\n",
      "5\n",
      "10\n",
      "15\n",
      "20\n",
      "25\n",
      "30\n",
      "35\n",
      "40\n",
      "45\n"
     ]
    }
   ],
   "source": [
    "for i  in range(0,50,5):\n",
    "    print(i)"
   ]
  },
  {
   "cell_type": "code",
   "execution_count": 4,
   "id": "93a2cbb8",
   "metadata": {},
   "outputs": [
    {
     "name": "stdout",
     "output_type": "stream",
     "text": [
      "hello welcome\n",
      "thank you\n",
      "hello welcome\n",
      "thank you\n",
      "hello welcome\n",
      "thank you\n",
      "hello welcome\n",
      "thank you\n",
      "hello welcome\n",
      "thank you\n",
      "hello welcome\n",
      "thank you\n",
      "hello welcome\n",
      "thank you\n",
      "hello welcome\n",
      "thank you\n",
      "hello welcome\n",
      "thank you\n",
      "hello welcome\n",
      "thank you\n"
     ]
    }
   ],
   "source": [
    "#while loop to print many times\n",
    "#declare i \n",
    "i=0\n",
    "while(i<10):\n",
    "    print(\"hello welcome\")\n",
    "    i=i+1\n",
    "    print(\"thank you\")"
   ]
  },
  {
   "cell_type": "code",
   "execution_count": 5,
   "id": "4652fbdd",
   "metadata": {},
   "outputs": [],
   "source": [
    "#function definition and declaration\n",
    "#keyword def is used\n",
    "#function with no argument\n",
    "def cse():\n",
    "    print(\"welcome\")\n",
    "    return "
   ]
  },
  {
   "cell_type": "code",
   "execution_count": 6,
   "id": "f609665f",
   "metadata": {},
   "outputs": [
    {
     "name": "stdout",
     "output_type": "stream",
     "text": [
      "welcome\n"
     ]
    }
   ],
   "source": [
    "#function call\n",
    "cse()"
   ]
  },
  {
   "cell_type": "code",
   "execution_count": 7,
   "id": "ca0bcaad",
   "metadata": {},
   "outputs": [],
   "source": [
    "str=\"Welcome\""
   ]
  },
  {
   "cell_type": "code",
   "execution_count": 8,
   "id": "f28ed5e8",
   "metadata": {},
   "outputs": [
    {
     "data": {
      "text/plain": [
       "'Welcome'"
      ]
     },
     "execution_count": 8,
     "metadata": {},
     "output_type": "execute_result"
    }
   ],
   "source": [
    "str"
   ]
  },
  {
   "cell_type": "code",
   "execution_count": 9,
   "id": "3a878ac4",
   "metadata": {},
   "outputs": [],
   "source": [
    "#function with argument\n",
    "def cse(str):\n",
    "    print(str)\n",
    "    return "
   ]
  },
  {
   "cell_type": "code",
   "execution_count": 10,
   "id": "636c4dd5",
   "metadata": {},
   "outputs": [
    {
     "ename": "TypeError",
     "evalue": "cse() missing 1 required positional argument: 'str'",
     "output_type": "error",
     "traceback": [
      "\u001b[1;31m---------------------------------------------------------------------------\u001b[0m",
      "\u001b[1;31mTypeError\u001b[0m                                 Traceback (most recent call last)",
      "\u001b[1;32m~\\AppData\\Local\\Temp/ipykernel_1532/2148978548.py\u001b[0m in \u001b[0;36m<module>\u001b[1;34m\u001b[0m\n\u001b[1;32m----> 1\u001b[1;33m \u001b[0mcse\u001b[0m\u001b[1;33m(\u001b[0m\u001b[1;33m)\u001b[0m\u001b[1;33m\u001b[0m\u001b[1;33m\u001b[0m\u001b[0m\n\u001b[0m",
      "\u001b[1;31mTypeError\u001b[0m: cse() missing 1 required positional argument: 'str'"
     ]
    }
   ],
   "source": [
    "cse()\n",
    "#for argument function pass argument"
   ]
  },
  {
   "cell_type": "code",
   "execution_count": 11,
   "id": "2c69facd",
   "metadata": {},
   "outputs": [
    {
     "name": "stdout",
     "output_type": "stream",
     "text": [
      "Welcome\n"
     ]
    }
   ],
   "source": [
    "cse(str)"
   ]
  },
  {
   "cell_type": "code",
   "execution_count": 12,
   "id": "3adf3771",
   "metadata": {},
   "outputs": [],
   "source": [
    "a=10"
   ]
  },
  {
   "cell_type": "code",
   "execution_count": 13,
   "id": "a7bbbb15",
   "metadata": {},
   "outputs": [],
   "source": [
    "#print string 'a' number of times\n",
    "def cse(str,a):\n",
    "    print(str*a)\n",
    "    return "
   ]
  },
  {
   "cell_type": "code",
   "execution_count": 14,
   "id": "3a1c9e77",
   "metadata": {},
   "outputs": [
    {
     "name": "stdout",
     "output_type": "stream",
     "text": [
      "WelcomeWelcomeWelcomeWelcomeWelcomeWelcomeWelcomeWelcomeWelcomeWelcome\n"
     ]
    }
   ],
   "source": [
    "cse(str,a)"
   ]
  },
  {
   "cell_type": "code",
   "execution_count": 15,
   "id": "c4b0cce4",
   "metadata": {},
   "outputs": [],
   "source": [
    "#NUMPY PACKAGE - Numerical Python\n",
    "#including numpy package, use import statement\n",
    "import numpy as np\n",
    "#np is a user defined variable"
   ]
  },
  {
   "cell_type": "code",
   "execution_count": 16,
   "id": "a3177dd0",
   "metadata": {},
   "outputs": [],
   "source": [
    "#for creating an array in py\n",
    "#int a[10] - 1D, a[10][10] - 2D, a[10][10][10] -multiD\n",
    "a=np.array([1,2,3,4,5,6])"
   ]
  },
  {
   "cell_type": "code",
   "execution_count": 17,
   "id": "09958bb3",
   "metadata": {},
   "outputs": [
    {
     "data": {
      "text/plain": [
       "array([1, 2, 3, 4, 5, 6])"
      ]
     },
     "execution_count": 17,
     "metadata": {},
     "output_type": "execute_result"
    }
   ],
   "source": [
    "a"
   ]
  },
  {
   "cell_type": "code",
   "execution_count": 20,
   "id": "87fdaa57",
   "metadata": {},
   "outputs": [
    {
     "data": {
      "text/plain": [
       "1"
      ]
     },
     "execution_count": 20,
     "metadata": {},
     "output_type": "execute_result"
    }
   ],
   "source": [
    "#ndim - to verify the dimension of array\n",
    "a.ndim"
   ]
  },
  {
   "cell_type": "code",
   "execution_count": 23,
   "id": "656b3b50",
   "metadata": {},
   "outputs": [],
   "source": [
    "b=np.array([[1,2,3,4,5],[6,7,8,9,10]])"
   ]
  },
  {
   "cell_type": "code",
   "execution_count": 24,
   "id": "1b8f7b79",
   "metadata": {},
   "outputs": [
    {
     "data": {
      "text/plain": [
       "array([[ 1,  2,  3,  4,  5],\n",
       "       [ 6,  7,  8,  9, 10]])"
      ]
     },
     "execution_count": 24,
     "metadata": {},
     "output_type": "execute_result"
    }
   ],
   "source": [
    "b"
   ]
  },
  {
   "cell_type": "code",
   "execution_count": 25,
   "id": "6a1af43c",
   "metadata": {},
   "outputs": [],
   "source": [
    "b1=np.array([[1,2,3],[4,5,6],[7,8,9]])"
   ]
  },
  {
   "cell_type": "code",
   "execution_count": 26,
   "id": "046705b0",
   "metadata": {},
   "outputs": [
    {
     "data": {
      "text/plain": [
       "array([[1, 2, 3],\n",
       "       [4, 5, 6],\n",
       "       [7, 8, 9]])"
      ]
     },
     "execution_count": 26,
     "metadata": {},
     "output_type": "execute_result"
    }
   ],
   "source": [
    "b1"
   ]
  },
  {
   "cell_type": "code",
   "execution_count": 29,
   "id": "8390f2a3",
   "metadata": {},
   "outputs": [
    {
     "data": {
      "text/plain": [
       "2"
      ]
     },
     "execution_count": 29,
     "metadata": {},
     "output_type": "execute_result"
    }
   ],
   "source": [
    "b1.ndim"
   ]
  },
  {
   "cell_type": "code",
   "execution_count": 30,
   "id": "3929a33d",
   "metadata": {},
   "outputs": [],
   "source": [
    "#create array using range function\n",
    "c=np.arange(10,30)"
   ]
  },
  {
   "cell_type": "code",
   "execution_count": 31,
   "id": "8e2a7ba9",
   "metadata": {},
   "outputs": [
    {
     "data": {
      "text/plain": [
       "array([10, 11, 12, 13, 14, 15, 16, 17, 18, 19, 20, 21, 22, 23, 24, 25, 26,\n",
       "       27, 28, 29])"
      ]
     },
     "execution_count": 31,
     "metadata": {},
     "output_type": "execute_result"
    }
   ],
   "source": [
    "c"
   ]
  },
  {
   "cell_type": "code",
   "execution_count": 32,
   "id": "de14e0ef",
   "metadata": {},
   "outputs": [],
   "source": [
    "#use step value also\n",
    "d=np.arange(10,30,2)"
   ]
  },
  {
   "cell_type": "code",
   "execution_count": 33,
   "id": "f46c3a34",
   "metadata": {},
   "outputs": [
    {
     "data": {
      "text/plain": [
       "array([10, 12, 14, 16, 18, 20, 22, 24, 26, 28])"
      ]
     },
     "execution_count": 33,
     "metadata": {},
     "output_type": "execute_result"
    }
   ],
   "source": [
    "d"
   ]
  },
  {
   "cell_type": "code",
   "execution_count": 35,
   "id": "be138697",
   "metadata": {},
   "outputs": [],
   "source": [
    "#make 1D to 2D\n",
    "d.shape=(2,5)"
   ]
  },
  {
   "cell_type": "code",
   "execution_count": 36,
   "id": "a806ac48",
   "metadata": {},
   "outputs": [
    {
     "data": {
      "text/plain": [
       "array([[10, 12, 14, 16, 18],\n",
       "       [20, 22, 24, 26, 28]])"
      ]
     },
     "execution_count": 36,
     "metadata": {},
     "output_type": "execute_result"
    }
   ],
   "source": [
    "d"
   ]
  },
  {
   "cell_type": "code",
   "execution_count": 37,
   "id": "59000168",
   "metadata": {},
   "outputs": [],
   "source": [
    "#printing random array using empty function\n",
    "x=np.empty([3,2],dtype=int)"
   ]
  },
  {
   "cell_type": "code",
   "execution_count": 38,
   "id": "c8db9315",
   "metadata": {},
   "outputs": [
    {
     "data": {
      "text/plain": [
       "array([[4915277, 6225996],\n",
       "       [4522070, 4325458],\n",
       "       [5439567,      69]])"
      ]
     },
     "execution_count": 38,
     "metadata": {},
     "output_type": "execute_result"
    }
   ],
   "source": [
    "x"
   ]
  },
  {
   "cell_type": "code",
   "execution_count": 39,
   "id": "40bf1753",
   "metadata": {},
   "outputs": [],
   "source": [
    "#zeros array with zeros fn\n",
    "x=np.zeros(10)"
   ]
  },
  {
   "cell_type": "code",
   "execution_count": 40,
   "id": "9ee34b1c",
   "metadata": {},
   "outputs": [
    {
     "data": {
      "text/plain": [
       "array([0., 0., 0., 0., 0., 0., 0., 0., 0., 0.])"
      ]
     },
     "execution_count": 40,
     "metadata": {},
     "output_type": "execute_result"
    }
   ],
   "source": [
    "x"
   ]
  },
  {
   "cell_type": "code",
   "execution_count": 41,
   "id": "503602e6",
   "metadata": {},
   "outputs": [],
   "source": [
    "#print one with ones fn\n",
    "x=np.ones(10)"
   ]
  },
  {
   "cell_type": "code",
   "execution_count": 42,
   "id": "07a0f506",
   "metadata": {},
   "outputs": [
    {
     "data": {
      "text/plain": [
       "array([1., 1., 1., 1., 1., 1., 1., 1., 1., 1.])"
      ]
     },
     "execution_count": 42,
     "metadata": {},
     "output_type": "execute_result"
    }
   ],
   "source": [
    "x"
   ]
  },
  {
   "cell_type": "code",
   "execution_count": 43,
   "id": "a5c1354a",
   "metadata": {},
   "outputs": [],
   "source": [
    "#2D array of 12 elements\n",
    "t=np.array([[1,2,3],[4,5,6],[7,8,9],[10,11,12]])"
   ]
  },
  {
   "cell_type": "code",
   "execution_count": 44,
   "id": "ce1be7e0",
   "metadata": {},
   "outputs": [
    {
     "data": {
      "text/plain": [
       "array([[ 1,  2,  3],\n",
       "       [ 4,  5,  6],\n",
       "       [ 7,  8,  9],\n",
       "       [10, 11, 12]])"
      ]
     },
     "execution_count": 44,
     "metadata": {},
     "output_type": "execute_result"
    }
   ],
   "source": [
    "t"
   ]
  },
  {
   "cell_type": "code",
   "execution_count": 45,
   "id": "4f3b09ce",
   "metadata": {},
   "outputs": [
    {
     "data": {
      "text/plain": [
       "'Welcome'"
      ]
     },
     "execution_count": 45,
     "metadata": {},
     "output_type": "execute_result"
    }
   ],
   "source": [
    "str"
   ]
  },
  {
   "cell_type": "code",
   "execution_count": 48,
   "id": "3b7b5a0d",
   "metadata": {},
   "outputs": [
    {
     "data": {
      "text/plain": [
       "array([1, 2, 3])"
      ]
     },
     "execution_count": 48,
     "metadata": {},
     "output_type": "execute_result"
    }
   ],
   "source": [
    "#array slicing\n",
    "t[0]"
   ]
  },
  {
   "cell_type": "code",
   "execution_count": 49,
   "id": "c4354972",
   "metadata": {},
   "outputs": [
    {
     "data": {
      "text/plain": [
       "array([4, 5, 6])"
      ]
     },
     "execution_count": 49,
     "metadata": {},
     "output_type": "execute_result"
    }
   ],
   "source": [
    "t[1]"
   ]
  },
  {
   "cell_type": "code",
   "execution_count": 50,
   "id": "ebf8100b",
   "metadata": {},
   "outputs": [
    {
     "data": {
      "text/plain": [
       "array([[4, 5, 6],\n",
       "       [7, 8, 9]])"
      ]
     },
     "execution_count": 50,
     "metadata": {},
     "output_type": "execute_result"
    }
   ],
   "source": [
    "t[1:3] #or t[1][3]"
   ]
  },
  {
   "cell_type": "code",
   "execution_count": 52,
   "id": "69251f13",
   "metadata": {},
   "outputs": [
    {
     "data": {
      "text/plain": [
       "9"
      ]
     },
     "execution_count": 52,
     "metadata": {},
     "output_type": "execute_result"
    }
   ],
   "source": [
    "t[2,2] #t[2][2]"
   ]
  },
  {
   "cell_type": "code",
   "execution_count": 53,
   "id": "9acd386f",
   "metadata": {},
   "outputs": [
    {
     "data": {
      "text/plain": [
       "11"
      ]
     },
     "execution_count": 53,
     "metadata": {},
     "output_type": "execute_result"
    }
   ],
   "source": [
    "t[3,1] #t[3][1]"
   ]
  },
  {
   "cell_type": "code",
   "execution_count": 54,
   "id": "7f567596",
   "metadata": {},
   "outputs": [
    {
     "data": {
      "text/plain": [
       "array([10, 11, 12])"
      ]
     },
     "execution_count": 54,
     "metadata": {},
     "output_type": "execute_result"
    }
   ],
   "source": [
    "t[3,0:] #t[3][0:]"
   ]
  },
  {
   "cell_type": "code",
   "execution_count": 60,
   "id": "8e33e62f",
   "metadata": {},
   "outputs": [
    {
     "data": {
      "text/plain": [
       "array([ 1,  4,  7, 10])"
      ]
     },
     "execution_count": 60,
     "metadata": {},
     "output_type": "execute_result"
    }
   ],
   "source": [
    "#print the first column alone\n",
    "#represent column data...use colon comma\n",
    "t[:,0]"
   ]
  },
  {
   "cell_type": "code",
   "execution_count": 61,
   "id": "c26c5f4c",
   "metadata": {},
   "outputs": [
    {
     "data": {
      "text/plain": [
       "array([ 3,  6,  9, 12])"
      ]
     },
     "execution_count": 61,
     "metadata": {},
     "output_type": "execute_result"
    }
   ],
   "source": [
    "t[:,2]"
   ]
  },
  {
   "cell_type": "code",
   "execution_count": 65,
   "id": "7aae227f",
   "metadata": {},
   "outputs": [
    {
     "data": {
      "text/plain": [
       "array([[ 2,  3],\n",
       "       [ 5,  6],\n",
       "       [ 8,  9],\n",
       "       [11, 12]])"
      ]
     },
     "execution_count": 65,
     "metadata": {},
     "output_type": "execute_result"
    }
   ],
   "source": [
    "t[:,1:3]"
   ]
  },
  {
   "cell_type": "code",
   "execution_count": 73,
   "id": "7efad4d2",
   "metadata": {},
   "outputs": [
    {
     "data": {
      "text/plain": [
       "array([[ 1,  2,  3,  4],\n",
       "       [ 5,  6,  7,  8],\n",
       "       [ 9, 10, 11, 12],\n",
       "       [13, 14, 15, 16]])"
      ]
     },
     "execution_count": 73,
     "metadata": {},
     "output_type": "execute_result"
    }
   ],
   "source": [
    "m=np.array([[1,2,3,4],[5,6,7,8],[9,10,11,12],[13,14,15,16]])\n",
    "m"
   ]
  },
  {
   "cell_type": "code",
   "execution_count": 72,
   "id": "db56e68a",
   "metadata": {},
   "outputs": [
    {
     "data": {
      "text/plain": [
       "array([[ 5,  6,  7,  8],\n",
       "       [ 9, 10, 11, 12]])"
      ]
     },
     "execution_count": 72,
     "metadata": {},
     "output_type": "execute_result"
    }
   ],
   "source": [
    "m[1:3][0:3]"
   ]
  },
  {
   "cell_type": "code",
   "execution_count": null,
   "id": "55acfe3d",
   "metadata": {},
   "outputs": [],
   "source": []
  }
 ],
 "metadata": {
  "kernelspec": {
   "display_name": "Python 3 (ipykernel)",
   "language": "python",
   "name": "python3"
  },
  "language_info": {
   "codemirror_mode": {
    "name": "ipython",
    "version": 3
   },
   "file_extension": ".py",
   "mimetype": "text/x-python",
   "name": "python",
   "nbconvert_exporter": "python",
   "pygments_lexer": "ipython3",
   "version": "3.9.7"
  }
 },
 "nbformat": 4,
 "nbformat_minor": 5
}
