{
 "cells": [
  {
   "cell_type": "code",
   "execution_count": 1,
   "id": "ba11c41d",
   "metadata": {},
   "outputs": [],
   "source": [
    "#DAY 1\n"
   ]
  },
  {
   "cell_type": "code",
   "execution_count": null,
   "id": "f47272b1",
   "metadata": {},
   "outputs": [],
   "source": [
    "a=10"
   ]
  },
  {
   "cell_type": "code",
   "execution_count": 2,
   "id": "1f58ccae",
   "metadata": {},
   "outputs": [],
   "source": [
    "#For each execution, press Shift+Enter\n",
    "#Variables doesn't need data type in python\n",
    "b=5.5"
   ]
  },
  {
   "cell_type": "code",
   "execution_count": 3,
   "id": "1e780463",
   "metadata": {},
   "outputs": [
    {
     "data": {
      "text/plain": [
       "10"
      ]
     },
     "execution_count": 3,
     "metadata": {},
     "output_type": "execute_result"
    }
   ],
   "source": [
    "#printing values in Python can be done either using 1)printf or 2)variable name\n",
    "a"
   ]
  },
  {
   "cell_type": "code",
   "execution_count": 4,
   "id": "0c56b163",
   "metadata": {},
   "outputs": [
    {
     "data": {
      "text/plain": [
       "5.5"
      ]
     },
     "execution_count": 4,
     "metadata": {},
     "output_type": "execute_result"
    }
   ],
   "source": [
    "b"
   ]
  },
  {
   "cell_type": "code",
   "execution_count": 5,
   "id": "9f7194f5",
   "metadata": {},
   "outputs": [
    {
     "data": {
      "text/plain": [
       "-30"
      ]
     },
     "execution_count": 5,
     "metadata": {},
     "output_type": "execute_result"
    }
   ],
   "source": [
    "#for arithmetic calculations, give direct values\n",
    "10+20-30*2"
   ]
  },
  {
   "cell_type": "code",
   "execution_count": 6,
   "id": "2d6218b3",
   "metadata": {},
   "outputs": [],
   "source": [
    "str=\"hello welcome\"\n",
    "#use single or double quotes"
   ]
  },
  {
   "cell_type": "code",
   "execution_count": 7,
   "id": "3f1c8961",
   "metadata": {},
   "outputs": [
    {
     "data": {
      "text/plain": [
       "'hello welcome'"
      ]
     },
     "execution_count": 7,
     "metadata": {},
     "output_type": "execute_result"
    }
   ],
   "source": [
    "str"
   ]
  },
  {
   "cell_type": "code",
   "execution_count": 8,
   "id": "d3bb51d5",
   "metadata": {},
   "outputs": [
    {
     "data": {
      "text/plain": [
       "'h'"
      ]
     },
     "execution_count": 8,
     "metadata": {},
     "output_type": "execute_result"
    }
   ],
   "source": [
    "#index starts from 0\n",
    "#negative values are allowed in python\n",
    "str[0]"
   ]
  },
  {
   "cell_type": "code",
   "execution_count": 9,
   "id": "c2892da9",
   "metadata": {},
   "outputs": [
    {
     "data": {
      "text/plain": [
       "'m'"
      ]
     },
     "execution_count": 9,
     "metadata": {},
     "output_type": "execute_result"
    }
   ],
   "source": [
    "str[11]"
   ]
  },
  {
   "cell_type": "code",
   "execution_count": 10,
   "id": "798df948",
   "metadata": {},
   "outputs": [
    {
     "data": {
      "text/plain": [
       "'e'"
      ]
     },
     "execution_count": 10,
     "metadata": {},
     "output_type": "execute_result"
    }
   ],
   "source": [
    "str[12]"
   ]
  },
  {
   "cell_type": "code",
   "execution_count": 11,
   "id": "ea587b65",
   "metadata": {},
   "outputs": [
    {
     "data": {
      "text/plain": [
       "'e'"
      ]
     },
     "execution_count": 11,
     "metadata": {},
     "output_type": "execute_result"
    }
   ],
   "source": [
    "#Negative index - right to left\n",
    "#Positive index - left to right\n",
    "str[-1]"
   ]
  },
  {
   "cell_type": "code",
   "execution_count": 12,
   "id": "1cbc3182",
   "metadata": {},
   "outputs": [
    {
     "data": {
      "text/plain": [
       "'hello'"
      ]
     },
     "execution_count": 12,
     "metadata": {},
     "output_type": "execute_result"
    }
   ],
   "source": [
    "str[0:5]"
   ]
  },
  {
   "cell_type": "code",
   "execution_count": 13,
   "id": "7d249571",
   "metadata": {},
   "outputs": [
    {
     "data": {
      "text/plain": [
       "''"
      ]
     },
     "execution_count": 13,
     "metadata": {},
     "output_type": "execute_result"
    }
   ],
   "source": [
    "str[-1:-7]"
   ]
  },
  {
   "cell_type": "code",
   "execution_count": 14,
   "id": "605beee2",
   "metadata": {},
   "outputs": [
    {
     "data": {
      "text/plain": [
       "''"
      ]
     },
     "execution_count": 14,
     "metadata": {},
     "output_type": "execute_result"
    }
   ],
   "source": [
    "str[-1:-8]"
   ]
  },
  {
   "cell_type": "code",
   "execution_count": 15,
   "id": "66874d1d",
   "metadata": {},
   "outputs": [
    {
     "data": {
      "text/plain": [
       "' welcom'"
      ]
     },
     "execution_count": 15,
     "metadata": {},
     "output_type": "execute_result"
    }
   ],
   "source": [
    "str[-8:-1]"
   ]
  },
  {
   "cell_type": "code",
   "execution_count": 16,
   "id": "84787927",
   "metadata": {},
   "outputs": [
    {
     "data": {
      "text/plain": [
       "' welcome'"
      ]
     },
     "execution_count": 16,
     "metadata": {},
     "output_type": "execute_result"
    }
   ],
   "source": [
    "str[-8:]"
   ]
  },
  {
   "cell_type": "code",
   "execution_count": 18,
   "id": "80870b9b",
   "metadata": {},
   "outputs": [
    {
     "data": {
      "text/plain": [
       "'hello'"
      ]
     },
     "execution_count": 18,
     "metadata": {},
     "output_type": "execute_result"
    }
   ],
   "source": [
    "str[-13:-8]"
   ]
  },
  {
   "cell_type": "code",
   "execution_count": null,
   "id": "b4035066",
   "metadata": {},
   "outputs": [],
   "source": [
    "#DAY 2"
   ]
  },
  {
   "cell_type": "code",
   "execution_count": 1,
   "id": "88e2da4e",
   "metadata": {},
   "outputs": [],
   "source": [
    "str='hello welcome you all'"
   ]
  },
  {
   "cell_type": "code",
   "execution_count": 2,
   "id": "e2b1e269",
   "metadata": {},
   "outputs": [
    {
     "data": {
      "text/plain": [
       "'hello welcome you all'"
      ]
     },
     "execution_count": 2,
     "metadata": {},
     "output_type": "execute_result"
    }
   ],
   "source": [
    "str"
   ]
  },
  {
   "cell_type": "code",
   "execution_count": 3,
   "id": "d527e656",
   "metadata": {},
   "outputs": [
    {
     "name": "stdout",
     "output_type": "stream",
     "text": [
      "hello welcome you all\n"
     ]
    }
   ],
   "source": [
    "print(str)"
   ]
  },
  {
   "cell_type": "code",
   "execution_count": 4,
   "id": "04571d4b",
   "metadata": {},
   "outputs": [
    {
     "name": "stdout",
     "output_type": "stream",
     "text": [
      "hello welcome you allhello welcome you all\n"
     ]
    }
   ],
   "source": [
    "# * is used to display the string multiple times\n",
    "print(str*2)"
   ]
  },
  {
   "cell_type": "code",
   "execution_count": 5,
   "id": "ae828e33",
   "metadata": {},
   "outputs": [
    {
     "name": "stdout",
     "output_type": "stream",
     "text": [
      "hello welcome you allhello welcome you allhello welcome you allhello welcome you all\n"
     ]
    }
   ],
   "source": [
    "print(str*4)"
   ]
  },
  {
   "cell_type": "code",
   "execution_count": 6,
   "id": "f0e4bb4f",
   "metadata": {},
   "outputs": [
    {
     "data": {
      "text/plain": [
       "21"
      ]
     },
     "execution_count": 6,
     "metadata": {},
     "output_type": "execute_result"
    }
   ],
   "source": [
    "#find the length of the string\n",
    "len(str)"
   ]
  },
  {
   "cell_type": "code",
   "execution_count": 8,
   "id": "0966cf4b",
   "metadata": {},
   "outputs": [
    {
     "data": {
      "text/plain": [
       "0"
      ]
     },
     "execution_count": 8,
     "metadata": {},
     "output_type": "execute_result"
    }
   ],
   "source": [
    "str.find('hel')\n",
    "#FIND - content present in the string, then output will be 0 or INDEX POSITION VALUE"
   ]
  },
  {
   "cell_type": "code",
   "execution_count": 11,
   "id": "cb3bd077",
   "metadata": {},
   "outputs": [
    {
     "data": {
      "text/plain": [
       "-1"
      ]
     },
     "execution_count": 11,
     "metadata": {},
     "output_type": "execute_result"
    }
   ],
   "source": [
    "str.find('Hello')\n",
    "#FIND - content present in the string, then output will be -1"
   ]
  },
  {
   "cell_type": "code",
   "execution_count": 12,
   "id": "3b4da188",
   "metadata": {},
   "outputs": [
    {
     "data": {
      "text/plain": [
       "9"
      ]
     },
     "execution_count": 12,
     "metadata": {},
     "output_type": "execute_result"
    }
   ],
   "source": [
    "str.find('come')"
   ]
  },
  {
   "cell_type": "code",
   "execution_count": 13,
   "id": "bdfc9ebc",
   "metadata": {},
   "outputs": [
    {
     "data": {
      "text/plain": [
       "6"
      ]
     },
     "execution_count": 13,
     "metadata": {},
     "output_type": "execute_result"
    }
   ],
   "source": [
    "str.find('welcome')"
   ]
  },
  {
   "cell_type": "code",
   "execution_count": 14,
   "id": "fb474cc6",
   "metadata": {},
   "outputs": [
    {
     "data": {
      "text/plain": [
       "-1"
      ]
     },
     "execution_count": 14,
     "metadata": {},
     "output_type": "execute_result"
    }
   ],
   "source": [
    "str.find('cse')"
   ]
  },
  {
   "cell_type": "code",
   "execution_count": 15,
   "id": "e5029ede",
   "metadata": {},
   "outputs": [
    {
     "data": {
      "text/plain": [
       "'HELLO WELCOME YOU ALL'"
      ]
     },
     "execution_count": 15,
     "metadata": {},
     "output_type": "execute_result"
    }
   ],
   "source": [
    "str.upper()\n",
    "#capitalize"
   ]
  },
  {
   "cell_type": "code",
   "execution_count": 16,
   "id": "adc8183f",
   "metadata": {},
   "outputs": [
    {
     "data": {
      "text/plain": [
       "'hello welcome you all'"
      ]
     },
     "execution_count": 16,
     "metadata": {},
     "output_type": "execute_result"
    }
   ],
   "source": [
    "str.lower()\n",
    "#smaller case"
   ]
  },
  {
   "cell_type": "code",
   "execution_count": 19,
   "id": "04a1c8e3",
   "metadata": {},
   "outputs": [
    {
     "data": {
      "text/plain": [
       "'all'"
      ]
     },
     "execution_count": 19,
     "metadata": {},
     "output_type": "execute_result"
    }
   ],
   "source": [
    "str[-3:]"
   ]
  },
  {
   "cell_type": "raw",
   "id": "49bfcee6",
   "metadata": {},
   "source": [
    "#print the string leaving even characters"
   ]
  },
  {
   "cell_type": "code",
   "execution_count": 20,
   "id": "efec7d27",
   "metadata": {},
   "outputs": [
    {
     "data": {
      "text/plain": [
       "'hlowloeyual'"
      ]
     },
     "execution_count": 20,
     "metadata": {},
     "output_type": "execute_result"
    }
   ],
   "source": [
    "str[0::2]"
   ]
  },
  {
   "cell_type": "code",
   "execution_count": 21,
   "id": "ef3ebdbc",
   "metadata": {},
   "outputs": [
    {
     "data": {
      "text/plain": [
       "False"
      ]
     },
     "execution_count": 21,
     "metadata": {},
     "output_type": "execute_result"
    }
   ],
   "source": [
    "str in['hello'] \n",
    "#WRONG SYNTAXXXXXXXXXXXXXXXXXXXX"
   ]
  },
  {
   "cell_type": "code",
   "execution_count": null,
   "id": "29abd895",
   "metadata": {},
   "outputs": [],
   "source": [
    "str in['Hello']\n",
    "#WRONG SYNTAXXXXXXXXXXXXXXXXXXXX"
   ]
  },
  {
   "cell_type": "code",
   "execution_count": 22,
   "id": "3935ac9f",
   "metadata": {},
   "outputs": [
    {
     "data": {
      "text/plain": [
       "True"
      ]
     },
     "execution_count": 22,
     "metadata": {},
     "output_type": "execute_result"
    }
   ],
   "source": [
    "'hello' in str\n",
    "#to verify if the string is present in the string"
   ]
  },
  {
   "cell_type": "code",
   "execution_count": 23,
   "id": "25778b29",
   "metadata": {},
   "outputs": [
    {
     "data": {
      "text/plain": [
       "'llo welcome you'"
      ]
     },
     "execution_count": 23,
     "metadata": {},
     "output_type": "execute_result"
    }
   ],
   "source": [
    "str[2:len(str)-4+4-4]\n",
    "#2:17"
   ]
  },
  {
   "cell_type": "code",
   "execution_count": 24,
   "id": "2d19d9cc",
   "metadata": {},
   "outputs": [
    {
     "data": {
      "text/plain": [
       "'llo welcome you a'"
      ]
     },
     "execution_count": 24,
     "metadata": {},
     "output_type": "execute_result"
    }
   ],
   "source": [
    "#Python accepts multiple operators in indexing\n",
    "str[2:len(str)-4+4-4+2-3*2-15]"
   ]
  },
  {
   "cell_type": "code",
   "execution_count": 25,
   "id": "f8d644d4",
   "metadata": {},
   "outputs": [
    {
     "name": "stdout",
     "output_type": "stream",
     "text": [
      "1\n",
      "2\n",
      "3\n",
      "4\n",
      "5\n",
      "6\n",
      "7\n",
      "8\n",
      "9\n",
      "10\n"
     ]
    }
   ],
   "source": [
    "#for loop to print 1 to 10\n",
    "for i in range(1,11):\n",
    "    print(i)"
   ]
  },
  {
   "cell_type": "code",
   "execution_count": 26,
   "id": "8b166063",
   "metadata": {},
   "outputs": [
    {
     "name": "stdout",
     "output_type": "stream",
     "text": [
      "1\n",
      "3\n",
      "5\n",
      "7\n",
      "9\n"
     ]
    }
   ],
   "source": [
    "#display odd numbers\n",
    "for i in range(1,11,2):\n",
    "    print(i)"
   ]
  },
  {
   "cell_type": "code",
   "execution_count": 27,
   "id": "616d368c",
   "metadata": {},
   "outputs": [],
   "source": [
    "a=4"
   ]
  },
  {
   "cell_type": "code",
   "execution_count": 29,
   "id": "9f1c74a3",
   "metadata": {},
   "outputs": [
    {
     "name": "stdout",
     "output_type": "stream",
     "text": [
      "1\n",
      "3\n",
      "5\n",
      "7\n",
      "9\n"
     ]
    }
   ],
   "source": [
    "#variables can be included in range or index\n",
    "for i in range(1,11,a-2):\n",
    "    print(i)"
   ]
  },
  {
   "cell_type": "code",
   "execution_count": 30,
   "id": "ccd0560e",
   "metadata": {},
   "outputs": [
    {
     "name": "stdout",
     "output_type": "stream",
     "text": [
      "1\n",
      "4\n",
      "7\n",
      "10\n"
     ]
    }
   ],
   "source": [
    "for i in range(1,11,a-2+4-3):\n",
    "    print(i)"
   ]
  },
  {
   "cell_type": "code",
   "execution_count": 33,
   "id": "96e5469f",
   "metadata": {},
   "outputs": [
    {
     "name": "stdout",
     "output_type": "stream",
     "text": [
      "5\n",
      "10\n",
      "15\n",
      "20\n",
      "25\n",
      "30\n",
      "35\n",
      "40\n",
      "45\n",
      "50\n",
      "55\n",
      "60\n",
      "65\n",
      "70\n",
      "75\n",
      "80\n",
      "85\n",
      "90\n",
      "95\n"
     ]
    }
   ],
   "source": [
    "for i in range(5,100,5):\n",
    "    print(i)"
   ]
  },
  {
   "cell_type": "code",
   "execution_count": 34,
   "id": "e9dd71cf",
   "metadata": {},
   "outputs": [],
   "source": [
    "#create a list\n",
    "l1=[12,15,39.54,'hello',[12,39,25,[34,'welcome',55],'cse']]"
   ]
  },
  {
   "cell_type": "code",
   "execution_count": 35,
   "id": "5f92bddb",
   "metadata": {},
   "outputs": [
    {
     "data": {
      "text/plain": [
       "[12, 15, 39.54, 'hello', [12, 39, 25, [34, 'welcome', 55], 'cse']]"
      ]
     },
     "execution_count": 35,
     "metadata": {},
     "output_type": "execute_result"
    }
   ],
   "source": [
    "l1"
   ]
  },
  {
   "cell_type": "code",
   "execution_count": 36,
   "id": "8164c54d",
   "metadata": {},
   "outputs": [
    {
     "data": {
      "text/plain": [
       "12"
      ]
     },
     "execution_count": 36,
     "metadata": {},
     "output_type": "execute_result"
    }
   ],
   "source": [
    "l1[0]"
   ]
  },
  {
   "cell_type": "code",
   "execution_count": 37,
   "id": "2ed86b20",
   "metadata": {},
   "outputs": [
    {
     "data": {
      "text/plain": [
       "'hello'"
      ]
     },
     "execution_count": 37,
     "metadata": {},
     "output_type": "execute_result"
    }
   ],
   "source": [
    "l1[3]"
   ]
  },
  {
   "cell_type": "code",
   "execution_count": 38,
   "id": "4b9917bc",
   "metadata": {},
   "outputs": [
    {
     "data": {
      "text/plain": [
       "'welcome'"
      ]
     },
     "execution_count": 38,
     "metadata": {},
     "output_type": "execute_result"
    }
   ],
   "source": [
    "l1[4][3][1]"
   ]
  },
  {
   "cell_type": "code",
   "execution_count": 39,
   "id": "ec995022",
   "metadata": {},
   "outputs": [
    {
     "data": {
      "text/plain": [
       "['welcome', 55]"
      ]
     },
     "execution_count": 39,
     "metadata": {},
     "output_type": "execute_result"
    }
   ],
   "source": [
    "#print only 'come' in 'welcome'\n",
    "l1[4][3][1:3]   #not the expected output"
   ]
  },
  {
   "cell_type": "code",
   "execution_count": 40,
   "id": "abb3774f",
   "metadata": {},
   "outputs": [
    {
     "data": {
      "text/plain": [
       "'come'"
      ]
     },
     "execution_count": 40,
     "metadata": {},
     "output_type": "execute_result"
    }
   ],
   "source": [
    "l1[4][3][1][3:]"
   ]
  },
  {
   "cell_type": "code",
   "execution_count": 41,
   "id": "54e4d254",
   "metadata": {},
   "outputs": [
    {
     "data": {
      "text/plain": [
       "'cse'"
      ]
     },
     "execution_count": 41,
     "metadata": {},
     "output_type": "execute_result"
    }
   ],
   "source": [
    "#display 'cse'\n",
    "l1[4][4]"
   ]
  },
  {
   "cell_type": "code",
   "execution_count": 42,
   "id": "876c9308",
   "metadata": {},
   "outputs": [
    {
     "data": {
      "text/plain": [
       "'se'"
      ]
     },
     "execution_count": 42,
     "metadata": {},
     "output_type": "execute_result"
    }
   ],
   "source": [
    "l1[4][4][1:]"
   ]
  },
  {
   "cell_type": "code",
   "execution_count": 43,
   "id": "2876a7a8",
   "metadata": {},
   "outputs": [],
   "source": [
    "str1='CSE'"
   ]
  },
  {
   "cell_type": "code",
   "execution_count": 44,
   "id": "70a75d69",
   "metadata": {},
   "outputs": [
    {
     "data": {
      "text/plain": [
       "'CSE'"
      ]
     },
     "execution_count": 44,
     "metadata": {},
     "output_type": "execute_result"
    }
   ],
   "source": [
    "str1"
   ]
  },
  {
   "cell_type": "code",
   "execution_count": 45,
   "id": "7e57546c",
   "metadata": {},
   "outputs": [
    {
     "data": {
      "text/plain": [
       "'hello welcome you allCSE'"
      ]
     },
     "execution_count": 45,
     "metadata": {},
     "output_type": "execute_result"
    }
   ],
   "source": [
    "#string concatenation\n",
    "str+str1"
   ]
  },
  {
   "cell_type": "code",
   "execution_count": 46,
   "id": "85428bf4",
   "metadata": {},
   "outputs": [
    {
     "data": {
      "text/plain": [
       "'hello come you all'"
      ]
     },
     "execution_count": 46,
     "metadata": {},
     "output_type": "execute_result"
    }
   ],
   "source": [
    "#replace 'welcome' as 'come'\n",
    "str.replace('welcome','come')"
   ]
  },
  {
   "cell_type": "code",
   "execution_count": 47,
   "id": "cfde4b85",
   "metadata": {},
   "outputs": [
    {
     "data": {
      "text/plain": [
       "'hello welcome you all'"
      ]
     },
     "execution_count": 47,
     "metadata": {},
     "output_type": "execute_result"
    }
   ],
   "source": [
    "#even after replacing, the original value of string only. So, string is IMMUTABLE. \n",
    "#We can apply all string operations. l1But, can't change the original value of string.\n",
    "str"
   ]
  },
  {
   "cell_type": "code",
   "execution_count": 49,
   "id": "5b55e94a",
   "metadata": {},
   "outputs": [
    {
     "data": {
      "text/plain": [
       "'come'"
      ]
     },
     "execution_count": 49,
     "metadata": {},
     "output_type": "execute_result"
    }
   ],
   "source": [
    "#replace 'welcome' as 'come' in list\n",
    "l1[4][3][1].replace('welcome','come') #temporary replacement"
   ]
  },
  {
   "cell_type": "code",
   "execution_count": 56,
   "id": "a0dc92b2",
   "metadata": {},
   "outputs": [
    {
     "data": {
      "text/plain": [
       "[12, 15, 39.54, 'hello', [12, 39, 25, [34, 'welcome', 55], 'cse']]"
      ]
     },
     "execution_count": 56,
     "metadata": {},
     "output_type": "execute_result"
    }
   ],
   "source": [
    "l1"
   ]
  },
  {
   "cell_type": "code",
   "execution_count": 57,
   "id": "708665ef",
   "metadata": {},
   "outputs": [],
   "source": [
    "#for permanent replace\n",
    "l1[4][3][1]='come'"
   ]
  },
  {
   "cell_type": "code",
   "execution_count": 58,
   "id": "17644b81",
   "metadata": {},
   "outputs": [
    {
     "data": {
      "text/plain": [
       "[12, 15, 39.54, 'hello', [12, 39, 25, [34, 'come', 55], 'cse']]"
      ]
     },
     "execution_count": 58,
     "metadata": {},
     "output_type": "execute_result"
    }
   ],
   "source": [
    "l1"
   ]
  },
  {
   "cell_type": "code",
   "execution_count": 70,
   "id": "0b1b8d33",
   "metadata": {},
   "outputs": [],
   "source": [
    "#remove 39 from the list\n",
    "#NESTED LIST NOT COMING....................................CHECK.................USE POP KEYWORD........................\n",
    "l2=[12, 39, 25, [34, 'come', 55], 'cse']\n",
    "l2.remove(39)"
   ]
  },
  {
   "cell_type": "code",
   "execution_count": 89,
   "id": "2ff4f051",
   "metadata": {},
   "outputs": [],
   "source": [
    "l3=[12, 15, 39.54, 'hello', [12, 39, 25, [34, 'come', 55], 'cse']]\n",
    "#USE POP KEYWORD........................"
   ]
  },
  {
   "cell_type": "code",
   "execution_count": 92,
   "id": "79763407",
   "metadata": {},
   "outputs": [
    {
     "data": {
      "text/plain": [
       "39"
      ]
     },
     "execution_count": 92,
     "metadata": {},
     "output_type": "execute_result"
    }
   ],
   "source": [
    "l3[4].pop(1)\n",
    "#deleting element from nested list.....mention list index separately and popping element separately"
   ]
  },
  {
   "cell_type": "code",
   "execution_count": 93,
   "id": "de6d8a18",
   "metadata": {},
   "outputs": [
    {
     "data": {
      "text/plain": [
       "[12, 15, 39.54, 'hello', [12, 25, [34, 'come', 55], 'cse']]"
      ]
     },
     "execution_count": 93,
     "metadata": {},
     "output_type": "execute_result"
    }
   ],
   "source": [
    "l3"
   ]
  },
  {
   "cell_type": "code",
   "execution_count": 71,
   "id": "f2f9365c",
   "metadata": {},
   "outputs": [
    {
     "data": {
      "text/plain": [
       "[12, 25, [34, 'come', 55], 'cse']"
      ]
     },
     "execution_count": 71,
     "metadata": {},
     "output_type": "execute_result"
    }
   ],
   "source": [
    "l2"
   ]
  },
  {
   "cell_type": "code",
   "execution_count": 60,
   "id": "290a86df",
   "metadata": {},
   "outputs": [],
   "source": [
    "#insert 'welcome' after 'hello' in list\n",
    "l1.insert(4,'welcome')"
   ]
  },
  {
   "cell_type": "code",
   "execution_count": 61,
   "id": "b682967a",
   "metadata": {},
   "outputs": [
    {
     "data": {
      "text/plain": [
       "[12, 15, 39.54, 'hello', 'welcome', [12, 39, 25, [34, 'come', 55], 'cse']]"
      ]
     },
     "execution_count": 61,
     "metadata": {},
     "output_type": "execute_result"
    }
   ],
   "source": [
    "l1"
   ]
  },
  {
   "cell_type": "code",
   "execution_count": 63,
   "id": "2b3f7bd5",
   "metadata": {},
   "outputs": [],
   "source": [
    "l1.remove('welcome')"
   ]
  },
  {
   "cell_type": "code",
   "execution_count": 64,
   "id": "5517fef3",
   "metadata": {},
   "outputs": [
    {
     "data": {
      "text/plain": [
       "[12, 15, 39.54, 'hello', [12, 39, 25, [34, 'come', 55], 'cse']]"
      ]
     },
     "execution_count": 64,
     "metadata": {},
     "output_type": "execute_result"
    }
   ],
   "source": [
    "l1"
   ]
  },
  {
   "cell_type": "code",
   "execution_count": 66,
   "id": "cd7b67ca",
   "metadata": {},
   "outputs": [],
   "source": [
    "l1[4]='welcome'"
   ]
  },
  {
   "cell_type": "code",
   "execution_count": 67,
   "id": "0f9738c7",
   "metadata": {},
   "outputs": [
    {
     "data": {
      "text/plain": [
       "[12, 15, 39.54, 'hello', 'welcome']"
      ]
     },
     "execution_count": 67,
     "metadata": {},
     "output_type": "execute_result"
    }
   ],
   "source": [
    "l1"
   ]
  },
  {
   "cell_type": "code",
   "execution_count": 74,
   "id": "dd6fee28",
   "metadata": {},
   "outputs": [
    {
     "ename": "AttributeError",
     "evalue": "'float' object has no attribute 'split'",
     "output_type": "error",
     "traceback": [
      "\u001b[1;31m---------------------------------------------------------------------------\u001b[0m",
      "\u001b[1;31mAttributeError\u001b[0m                            Traceback (most recent call last)",
      "\u001b[1;32m~\\AppData\\Local\\Temp/ipykernel_3116/2490547362.py\u001b[0m in \u001b[0;36m<module>\u001b[1;34m\u001b[0m\n\u001b[0;32m      1\u001b[0m \u001b[1;31m#display .54 in list\u001b[0m\u001b[1;33m\u001b[0m\u001b[1;33m\u001b[0m\u001b[0m\n\u001b[1;32m----> 2\u001b[1;33m \u001b[0ml1\u001b[0m\u001b[1;33m[\u001b[0m\u001b[1;36m2\u001b[0m\u001b[1;33m]\u001b[0m\u001b[1;33m.\u001b[0m\u001b[0msplit\u001b[0m\u001b[1;33m(\u001b[0m\u001b[1;34m'.'\u001b[0m\u001b[1;33m)\u001b[0m\u001b[1;33m\u001b[0m\u001b[1;33m\u001b[0m\u001b[0m\n\u001b[0m",
      "\u001b[1;31mAttributeError\u001b[0m: 'float' object has no attribute 'split'"
     ]
    }
   ],
   "source": [
    "#display .54 in list\n",
    "###############YOU CAN\"T PRINT FLOAT VALUE SEPARATELY FROM INTEGER VALUE IN LIST#####################l1[2].split('.')"
   ]
  },
  {
   "cell_type": "code",
   "execution_count": 73,
   "id": "7bc414c8",
   "metadata": {},
   "outputs": [
    {
     "data": {
      "text/plain": [
       "['hello', 'welcome', 'you', 'all']"
      ]
     },
     "execution_count": 73,
     "metadata": {},
     "output_type": "execute_result"
    }
   ],
   "source": [
    "#split string using the SPLIT statement\n",
    "str.split(' ',4)"
   ]
  },
  {
   "cell_type": "code",
   "execution_count": 75,
   "id": "01d4918c",
   "metadata": {},
   "outputs": [],
   "source": [
    "#create dictionary \n",
    "dict={'name':\"CSE\",'address':\"Chennai\",'mobile number':1234567890}"
   ]
  },
  {
   "cell_type": "code",
   "execution_count": 76,
   "id": "9a84b6a9",
   "metadata": {},
   "outputs": [
    {
     "data": {
      "text/plain": [
       "{'name': 'CSE', 'address': 'Chennai', 'mobile number': 1234567890}"
      ]
     },
     "execution_count": 76,
     "metadata": {},
     "output_type": "execute_result"
    }
   ],
   "source": [
    "dict"
   ]
  },
  {
   "cell_type": "code",
   "execution_count": 77,
   "id": "c54c1e4c",
   "metadata": {},
   "outputs": [
    {
     "data": {
      "text/plain": [
       "'CSE'"
      ]
     },
     "execution_count": 77,
     "metadata": {},
     "output_type": "execute_result"
    }
   ],
   "source": [
    "dict['name']"
   ]
  },
  {
   "cell_type": "code",
   "execution_count": 78,
   "id": "4111f03c",
   "metadata": {},
   "outputs": [
    {
     "data": {
      "text/plain": [
       "'Chennai'"
      ]
     },
     "execution_count": 78,
     "metadata": {},
     "output_type": "execute_result"
    }
   ],
   "source": [
    "dict['address']"
   ]
  },
  {
   "cell_type": "code",
   "execution_count": 79,
   "id": "1936d4c9",
   "metadata": {},
   "outputs": [
    {
     "data": {
      "text/plain": [
       "1234567890"
      ]
     },
     "execution_count": 79,
     "metadata": {},
     "output_type": "execute_result"
    }
   ],
   "source": [
    "dict['mobile number']"
   ]
  },
  {
   "cell_type": "code",
   "execution_count": 80,
   "id": "ae3ce95a",
   "metadata": {},
   "outputs": [
    {
     "data": {
      "text/plain": [
       "3"
      ]
     },
     "execution_count": 80,
     "metadata": {},
     "output_type": "execute_result"
    }
   ],
   "source": [
    "len(dict)"
   ]
  },
  {
   "cell_type": "code",
   "execution_count": 81,
   "id": "93dc20d7",
   "metadata": {},
   "outputs": [],
   "source": [
    "#copies 1 dictionary value to another\n",
    "dict1=dict.copy"
   ]
  },
  {
   "cell_type": "code",
   "execution_count": 86,
   "id": "aebc18dd",
   "metadata": {},
   "outputs": [
    {
     "data": {
      "text/plain": [
       "<function dict.copy>"
      ]
     },
     "execution_count": 86,
     "metadata": {},
     "output_type": "execute_result"
    }
   ],
   "source": [
    "#print copy of dictionary as such, NO OUTPUT\n",
    "dict1"
   ]
  },
  {
   "cell_type": "code",
   "execution_count": 87,
   "id": "9be2ef93",
   "metadata": {},
   "outputs": [
    {
     "data": {
      "text/plain": [
       "{'name': 'CSE', 'address': 'Chennai', 'mobile number': 1234567890}"
      ]
     },
     "execution_count": 87,
     "metadata": {},
     "output_type": "execute_result"
    }
   ],
   "source": [
    "#to print dictionary copy...include ()\n",
    "dict1()"
   ]
  },
  {
   "cell_type": "code",
   "execution_count": 83,
   "id": "b63e9e8a",
   "metadata": {},
   "outputs": [
    {
     "data": {
      "text/plain": [
       "dict_values(['CSE', 'Chennai', 1234567890])"
      ]
     },
     "execution_count": 83,
     "metadata": {},
     "output_type": "execute_result"
    }
   ],
   "source": [
    "dict.values()"
   ]
  },
  {
   "cell_type": "code",
   "execution_count": 84,
   "id": "1b2f67ee",
   "metadata": {},
   "outputs": [
    {
     "data": {
      "text/plain": [
       "dict_keys(['name', 'address', 'mobile number'])"
      ]
     },
     "execution_count": 84,
     "metadata": {},
     "output_type": "execute_result"
    }
   ],
   "source": [
    "dict.keys()"
   ]
  },
  {
   "cell_type": "code",
   "execution_count": null,
   "id": "68b7a71a",
   "metadata": {},
   "outputs": [],
   "source": []
  }
 ],
 "metadata": {
  "kernelspec": {
   "display_name": "Python 3 (ipykernel)",
   "language": "python",
   "name": "python3"
  },
  "language_info": {
   "codemirror_mode": {
    "name": "ipython",
    "version": 3
   },
   "file_extension": ".py",
   "mimetype": "text/x-python",
   "name": "python",
   "nbconvert_exporter": "python",
   "pygments_lexer": "ipython3",
   "version": "3.9.7"
  }
 },
 "nbformat": 4,
 "nbformat_minor": 5
}
